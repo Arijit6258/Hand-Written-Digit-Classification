{
 "cells": [
  {
   "cell_type": "code",
   "execution_count": 1,
   "metadata": {},
   "outputs": [
    {
     "name": "stdout",
     "output_type": "stream",
     "text": [
      "WARNING:tensorflow:From /Users/arijitroy/opt/anaconda3/lib/python3.7/site-packages/tensorflow_core/python/compat/v2_compat.py:65: disable_resource_variables (from tensorflow.python.ops.variable_scope) is deprecated and will be removed in a future version.\n",
      "Instructions for updating:\n",
      "non-resource variables are not supported in the long term\n"
     ]
    }
   ],
   "source": [
    "import tensorflow.compat.v1 as tf\n",
    "tf.disable_v2_behavior() \n",
    "sess = tf.Session()"
   ]
  },
  {
   "cell_type": "markdown",
   "metadata": {},
   "source": [
    "## Data Extraction and Processing"
   ]
  },
  {
   "cell_type": "code",
   "execution_count": 2,
   "metadata": {},
   "outputs": [],
   "source": [
    "from sklearn.datasets import fetch_openml\n",
    "from sklearn.preprocessing import OneHotEncoder\n",
    "mnist = fetch_openml('mnist_784')\n",
    "required_target = mnist.target.reshape(len(mnist.target), 1)\n",
    "a = OneHotEncoder()\n",
    "a.fit(required_target)\n",
    "inputData = mnist.data \n",
    "target = a.transform(required_target).toarray()"
   ]
  },
  {
   "cell_type": "code",
   "execution_count": 3,
   "metadata": {},
   "outputs": [],
   "source": [
    "from sklearn.model_selection import train_test_split\n",
    "x_train, x_test, y_train, y_test = train_test_split(inputData, target)"
   ]
  },
  {
   "cell_type": "markdown",
   "metadata": {},
   "source": [
    "## Plotting the images "
   ]
  },
  {
   "cell_type": "code",
   "execution_count": 4,
   "metadata": {},
   "outputs": [
    {
     "data": {
      "image/png": "[encoded data removed]",
      "text/plain": [
       "<Figure size 432x288 with 1 Axes>"
      ]
     },
     "metadata": {
      "needs_background": "light"
     },
     "output_type": "display_data"
    },
    {
     "data": {
      "image/png": "[encoded data removed]",
      "text/plain": [
       "<Figure size 432x288 with 1 Axes>"
      ]
     },
     "metadata": {
      "needs_background": "light"
     },
     "output_type": "display_data"
    },
    {
     "data": {
      "image/png": "[encoded data removed]",
      "text/plain": [
       "<Figure size 432x288 with 1 Axes>"
      ]
     },
     "metadata": {
      "needs_background": "light"
     },
     "output_type": "display_data"
    }
   ],
   "source": [
    "import matplotlib.pyplot as plt\n",
    "img1 = x_train[10].reshape((28, 28))\n",
    "img2 = x_train[5].reshape((28, 28))\n",
    "img3 = x_train[489].reshape((28, 28))\n",
    "plt.imshow(img1)\n",
    "plt.show()\n",
    "plt.imshow(img2)\n",
    "plt.show()\n",
    "plt.imshow(img3)\n",
    "plt.show()"
   ]
  },
  {
   "cell_type": "markdown",
   "metadata": {},
   "source": [
    "# Applying neural network"
   ]
  },
  {
   "cell_type": "code",
   "execution_count": 5,
   "metadata": {},
   "outputs": [],
   "source": [
    "# Weights and biases\n",
    "n_input = 784\n",
    "n_hidden1 = 256\n",
    "n_hidden2 = 256\n",
    "n_classes = 10\n",
    "\n",
    "Weights = {\n",
    "    'h1': tf.Variable(tf.random_normal([n_input, n_hidden1])),\n",
    "    'h2': tf.Variable(tf.random_normal([n_hidden1, n_hidden2])),\n",
    "    'output': tf.Variable(tf.random_normal([n_hidden2, n_classes]))\n",
    "}\n",
    "\n",
    "Biases = {\n",
    "    'h1': tf.Variable(tf.random_normal([n_hidden1])),\n",
    "    'h2': tf.Variable(tf.random_normal([n_hidden2])),\n",
    "    'output': tf.Variable(tf.random_normal([n_classes]))\n",
    "}"
   ]
  },
  {
   "cell_type": "markdown",
   "metadata": {},
   "source": [
    "## Forward Propagation"
   ]
  },
  {
   "cell_type": "code",
   "execution_count": 6,
   "metadata": {},
   "outputs": [],
   "source": [
    "def forward_propagation(Weights, Biases, x):\n",
    "    layer1_input = tf.add(Biases['h1'], tf.matmul(x, Weights['h1']))\n",
    "    layer1_output = tf.nn.relu(layer1_input)\n",
    "    \n",
    "    layer2_input = tf.add(Biases['h2'], tf.matmul(layer1_output, Weights['h2']))\n",
    "    layer2_output = tf.nn.relu(layer2_input)\n",
    "    \n",
    "    output = tf.add(Biases['output'], tf.matmul(layer2_output, Weights['output']))\n",
    "    \n",
    "    return output"
   ]
  },
  {
   "cell_type": "markdown",
   "metadata": {},
   "source": [
    "## Prediction and Accuracy"
   ]
  },
  {
   "cell_type": "code",
   "execution_count": 7,
   "metadata": {},
   "outputs": [],
   "source": [
    "from sklearn.metrics import accuracy_score\n",
    "sess = tf.Session()\n",
    "sess.run(tf.global_variables_initializer())\n",
    "\n",
    "x = tf.placeholder(\"float\", [None, n_input])\n",
    "y = tf.placeholder(tf.int32, [None, n_classes])"
   ]
  },
  {
   "cell_type": "markdown",
   "metadata": {},
   "source": [
    "### Without Optimization"
   ]
  },
  {
   "cell_type": "code",
   "execution_count": 8,
   "metadata": {},
   "outputs": [
    {
     "name": "stdout",
     "output_type": "stream",
     "text": [
      "Correctly predicted classes : 2173  among  17500\n",
      "Accuracy :  12.417142857142856\n"
     ]
    }
   ],
   "source": [
    "pred = forward_propagation(Weights, Biases, x)\n",
    "Predictions = tf.argmax(pred, axis = 1)\n",
    "correct_labels = tf.argmax(y, axis = 1)\n",
    "y_pred, true_labels = sess.run([Predictions, correct_labels], \n",
    "                                             feed_dict = {x: x_test, y: y_test})\n",
    "\n",
    "correct_predictions = tf.equal(y_pred, true_labels)\n",
    "correct_pred = sess.run(correct_predictions, feed_dict = {x: x_test, y: y_test})\n",
    "print(\"Correctly predicted classes :\", correct_pred.sum(), \" among \", x_test.shape[0])\n",
    "\n",
    "print(\"Accuracy : \", accuracy_score(y_pred, true_labels) * 100)"
   ]
  },
  {
   "cell_type": "markdown",
   "metadata": {},
   "source": [
    "### With Optimization"
   ]
  },
  {
   "cell_type": "code",
   "execution_count": 9,
   "metadata": {},
   "outputs": [
    {
     "name": "stdout",
     "output_type": "stream",
     "text": [
      "WARNING:tensorflow:From <ipython-input-9-9e07479ed68c>:2: softmax_cross_entropy_with_logits (from tensorflow.python.ops.nn_ops) is deprecated and will be removed in a future version.\n",
      "Instructions for updating:\n",
      "\n",
      "Future major versions of TensorFlow will allow gradients to flow\n",
      "into the labels input on backprop by default.\n",
      "\n",
      "See `tf.nn.softmax_cross_entropy_with_logits_v2`.\n",
      "\n"
     ]
    }
   ],
   "source": [
    "# cost function used here is cross entropy cost\n",
    "cost = tf.reduce_mean(tf.nn.softmax_cross_entropy_with_logits(logits = pred, labels = y))\n",
    "\n",
    "# optimization\n",
    "optimizer = tf.train.AdamOptimizer(learning_rate = 0.05)\n",
    "optimize = optimizer.minimize(cost)"
   ]
  },
  {
   "cell_type": "code",
   "execution_count": 10,
   "metadata": {},
   "outputs": [
    {
     "name": "stdout",
     "output_type": "stream",
     "text": [
      "2846.2415 , 1246.9043 , 977.9571 , 559.63586 , 488.44873 , 341.87897 , 258.71637 , 245.65349 , 241.1165 , 176.65262 , 206.7295 , 272.44846 , 200.60483 , 111.85861 , 197.66313 , 206.38016 , 125.733765 , 141.02719 , 210.94078 , 59.150883 , 194.8176 , 76.79033 , 127.00547 , 99.07602 , 66.43706 , 39.652924 , 300.3032 , 45.394836 , 75.48164 , 94.73695 , "
     ]
    }
   ],
   "source": [
    "batch_size = 500\n",
    "c = 0\n",
    "sess.run(tf.global_variables_initializer())\n",
    "for i in range(30):\n",
    "    for s in range(0, x_train.shape[0], batch_size):\n",
    "        batch_x = x_train[s : (s + batch_size)]\n",
    "        batch_y = y_train[s : (s + batch_size)]\n",
    "        c, _ = sess.run([cost, optimize], feed_dict = {x: batch_x, y: batch_y})\n",
    "    print(c, end = \" , \")"
   ]
  },
  {
   "cell_type": "code",
   "execution_count": 11,
   "metadata": {},
   "outputs": [
    {
     "name": "stdout",
     "output_type": "stream",
     "text": [
      "Correctly predicted classes : 2173  among  17500\n",
      "Accuracy :  95.31428571428572\n"
     ]
    }
   ],
   "source": [
    "Predictions = tf.argmax(pred, axis = 1)\n",
    "correct_labels = tf.argmax(y, axis = 1)\n",
    "correct_predictions = tf.equal(y_pred, true_labels)\n",
    "y_pred, true_labels, correct_pred = sess.run([Predictions, correct_labels, correct_predictions], \n",
    "                                             feed_dict = {x: x_test, y: y_test})\n",
    "print(\"Correctly predicted classes :\", correct_pred.sum(), \" among \", x_test.shape[0])\n",
    "\n",
    "print(\"Accuracy : \", accuracy_score(y_pred, true_labels) * 100)"
   ]
  },
  {
   "cell_type": "code",
   "execution_count": 12,
   "metadata": {},
   "outputs": [],
   "source": [
    "# Optimized Accuracy - 95.31%"
   ]
  },
  {
   "cell_type": "code",
   "execution_count": null,
   "metadata": {},
   "outputs": [],
   "source": []
  }
 ],
 "metadata": {
  "kernelspec": {
   "display_name": "Python 3",
   "language": "python",
   "name": "python3"
  },
  "language_info": {
   "codemirror_mode": {
    "name": "ipython",
    "version": 3
   },
   "file_extension": ".py",
   "mimetype": "text/x-python",
   "name": "python",
   "nbconvert_exporter": "python",
   "pygments_lexer": "ipython3",
   "version": "3.7.6"
  }
 },
 "nbformat": 4,
 "nbformat_minor": 4
}
