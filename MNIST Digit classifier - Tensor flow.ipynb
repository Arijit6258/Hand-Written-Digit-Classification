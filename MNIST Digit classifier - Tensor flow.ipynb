{
 "cells": [
  {
   "cell_type": "code",
   "execution_count": 1,
   "metadata": {},
   "outputs": [
    {
     "name": "stdout",
     "output_type": "stream",
     "text": [
      "WARNING:tensorflow:From /Users/arijitroy/opt/anaconda3/lib/python3.7/site-packages/tensorflow_core/python/compat/v2_compat.py:65: disable_resource_variables (from tensorflow.python.ops.variable_scope) is deprecated and will be removed in a future version.\n",
      "Instructions for updating:\n",
      "non-resource variables are not supported in the long term\n"
     ]
    }
   ],
   "source": [
    "import tensorflow.compat.v1 as tf\n",
    "tf.disable_v2_behavior() \n",
    "sess = tf.Session()"
   ]
  },
  {
   "cell_type": "markdown",
   "metadata": {},
   "source": [
    "## Data Extraction and Processing"
   ]
  },
  {
   "cell_type": "code",
   "execution_count": 2,
   "metadata": {},
   "outputs": [],
   "source": [
    "from sklearn.datasets import fetch_openml\n",
    "from sklearn.preprocessing import OneHotEncoder\n",
    "mnist = fetch_openml('mnist_784')\n",
    "required_target = mnist.target.reshape(len(mnist.target), 1)\n",
    "a = OneHotEncoder()\n",
    "a.fit(required_target)\n",
    "inputData = mnist.data \n",
    "target = a.transform(required_target).toarray()"
   ]
  },
  {
   "cell_type": "code",
   "execution_count": 3,
   "metadata": {},
   "outputs": [],
   "source": [
    "from sklearn.model_selection import train_test_split\n",
    "x_train, x_test, y_train, y_test = train_test_split(inputData, target)"
   ]
  },
  {
   "cell_type": "markdown",
   "metadata": {},
   "source": [
    "## Plotting the images "
   ]
  },
  {
   "cell_type": "code",
   "execution_count": 4,
   "metadata": {},
   "outputs": [
    {
     "data": {
      "image/png": "[encoded data removed]",
      "text/plain": [
       "<Figure size 432x288 with 1 Axes>"
      ]
     },
     "metadata": {
      "needs_background": "light"
     },
     "output_type": "display_data"
    },
    {
     "data": {
      "image/png": "[encoded data removed]",
      "text/plain": [
       "<Figure size 432x288 with 1 Axes>"
      ]
     },
     "metadata": {
      "needs_background": "light"
     },
     "output_type": "display_data"
    },
    {
     "data": {
      "image/png": "[encoded data removed]",
      "text/plain": [
       "<Figure size 432x288 with 1 Axes>"
      ]
     },
     "metadata": {
      "needs_background": "light"
     },
     "output_type": "display_data"
    }
   ],
   "source": [
    "import matplotlib.pyplot as plt\n",
    "img1 = x_train[10].reshape((28, 28))\n",
    "img2 = x_train[5].reshape((28, 28))\n",
    "img3 = x_train[489].reshape((28, 28))\n",
    "plt.imshow(img1)\n",
    "plt.show()\n",
    "plt.imshow(img2)\n",
    "plt.show()\n",
    "plt.imshow(img3)\n",
    "plt.show()"
   ]
  },
  {
   "cell_type": "markdown",
   "metadata": {},
   "source": [
    "# Applying neural network"
   ]
  },
  {
   "cell_type": "code",
   "execution_count": 5,
   "metadata": {},
   "outputs": [],
   "source": [
    "# Weights and biases\n",
    "n_input = 784\n",
    "n_hidden1 = 256\n",
    "n_hidden2 = 256\n",
    "n_classes = 10\n",
    "\n",
    "Weights = {\n",
    "    'h1': tf.Variable(tf.random_normal([n_input, n_hidden1])),\n",
    "    'h2': tf.Variable(tf.random_normal([n_hidden1, n_hidden2])),\n",
    "    'output': tf.Variable(tf.random_normal([n_hidden2, n_classes]))\n",
    "}\n",
    "\n",
    "Biases = {\n",
    "    'h1': tf.Variable(tf.random_normal([n_hidden1])),\n",
    "    'h2': tf.Variable(tf.random_normal([n_hidden2])),\n",
    "    'output': tf.Variable(tf.random_normal([n_classes]))\n",
    "}"
   ]
  },
  {
   "cell_type": "markdown",
   "metadata": {},
   "source": [
    "## Forward Propagation"
   ]
  },
  {
   "cell_type": "code",
   "execution_count": 6,
   "metadata": {},
   "outputs": [],
   "source": [
    "def forward_propagation(Weights, Biases, x):\n",
    "    layer1_input = tf.add(Biases['h1'], tf.matmul(x, Weights['h1']))\n",
    "    layer1_output = tf.nn.relu(layer1_input)\n",
    "    \n",
    "    layer2_input = tf.add(Biases['h2'], tf.matmul(layer1_output, Weights['h2']))\n",
    "    layer2_output = tf.nn.relu(layer2_input)\n",
    "    \n",
    "    output = tf.add(Biases['output'], tf.matmul(layer2_output, Weights['output']))\n",
    "    \n",
    "    return output"
   ]
  },
  {
   "cell_type": "markdown",
   "metadata": {},
   "source": [
    "## Prediction and Accuracy"
   ]
  },
  {
   "cell_type": "code",
   "execution_count": 7,
   "metadata": {},
   "outputs": [],
   "source": [
    "from sklearn.metrics import accuracy_score\n",
    "from sklearn.metrics import classification_report\n",
    "sess = tf.Session()\n",
    "sess.run(tf.global_variables_initializer())\n",
    "\n",
    "x = tf.placeholder(\"float\", [None, n_input])\n",
    "y = tf.placeholder(tf.int32, [None, n_classes])"
   ]
  },
  {
   "cell_type": "markdown",
   "metadata": {},
   "source": [
    "### Without Optimization"
   ]
  },
  {
   "cell_type": "code",
   "execution_count": 8,
   "metadata": {},
   "outputs": [
    {
     "name": "stdout",
     "output_type": "stream",
     "text": [
      "Correctly predicted classes : 1793  among  17500\n",
      "Accuracy :  10.245714285714286\n",
      "\n",
      "\n",
      "\n",
      " Classification Report : \n",
      "\n",
      "\n",
      "               precision    recall  f1-score   support\n",
      "\n",
      "           0       0.00      0.00      0.00        39\n",
      "           1       0.00      0.02      0.00       185\n",
      "           2       0.12      0.18      0.14      1190\n",
      "           3       0.03      0.05      0.04      1273\n",
      "           4       0.79      0.11      0.19     12062\n",
      "           5       0.00      0.00      0.00         1\n",
      "           6       0.03      0.04      0.04      1204\n",
      "           7       0.00      0.00      0.00        14\n",
      "           8       0.07      0.08      0.07      1374\n",
      "           9       0.01      0.08      0.01       158\n",
      "\n",
      "    accuracy                           0.10     17500\n",
      "   macro avg       0.10      0.06      0.05     17500\n",
      "weighted avg       0.56      0.10      0.16     17500\n",
      "\n"
     ]
    }
   ],
   "source": [
    "pred = forward_propagation(Weights, Biases, x)\n",
    "Predictions = tf.argmax(pred, axis = 1)\n",
    "correct_labels = tf.argmax(y, axis = 1)\n",
    "y_pred, true_labels = sess.run([Predictions, correct_labels], \n",
    "                                             feed_dict = {x: x_test, y: y_test})\n",
    "\n",
    "correct_predictions = tf.equal(y_pred, true_labels)\n",
    "correct_pred = sess.run(correct_predictions, feed_dict = {x: x_test, y: y_test})\n",
    "print(\"Correctly predicted classes :\", correct_pred.sum(), \" among \", x_test.shape[0])\n",
    "\n",
    "print(\"Accuracy : \", accuracy_score(y_pred, true_labels) * 100)\n",
    "print(\"\\n\\n\\n Classification Report : \\n\\n\\n\", classification_report(y_pred, true_labels))"
   ]
  },
  {
   "cell_type": "markdown",
   "metadata": {},
   "source": [
    "### With Optimization"
   ]
  },
  {
   "cell_type": "code",
   "execution_count": 9,
   "metadata": {},
   "outputs": [
    {
     "name": "stdout",
     "output_type": "stream",
     "text": [
      "WARNING:tensorflow:From <ipython-input-9-9e07479ed68c>:2: softmax_cross_entropy_with_logits (from tensorflow.python.ops.nn_ops) is deprecated and will be removed in a future version.\n",
      "Instructions for updating:\n",
      "\n",
      "Future major versions of TensorFlow will allow gradients to flow\n",
      "into the labels input on backprop by default.\n",
      "\n",
      "See `tf.nn.softmax_cross_entropy_with_logits_v2`.\n",
      "\n"
     ]
    }
   ],
   "source": [
    "# cost function used here is cross entropy cost\n",
    "cost = tf.reduce_mean(tf.nn.softmax_cross_entropy_with_logits(logits = pred, labels = y))\n",
    "\n",
    "# optimization\n",
    "optimizer = tf.train.AdamOptimizer(learning_rate = 0.05)\n",
    "optimize = optimizer.minimize(cost)"
   ]
  },
  {
   "cell_type": "code",
   "execution_count": 10,
   "metadata": {},
   "outputs": [
    {
     "name": "stdout",
     "output_type": "stream",
     "text": [
      "1983.302 , 1061.522 , 941.9491 , 579.30927 , 448.36554 , 312.10928 , 261.07663 , 255.76187 , 172.3729 , 271.11047 , 153.25308 , 157.74045 , 201.81241 , 105.06037 , 34.291367 , 150.36566 , 99.17921 , 125.984955 , 110.029686 , 76.303795 , 39.204742 , 57.503307 , 64.42915 , 139.69164 , 102.111725 , 37.236305 , 68.7911 , 45.994297 , 96.01844 , 24.901222 , "
     ]
    }
   ],
   "source": [
    "batch_size = 500\n",
    "c = 0\n",
    "sess.run(tf.global_variables_initializer())\n",
    "for i in range(30):\n",
    "    for s in range(0, x_train.shape[0], batch_size):\n",
    "        batch_x = x_train[s : (s + batch_size)]\n",
    "        batch_y = y_train[s : (s + batch_size)]\n",
    "        c, _ = sess.run([cost, optimize], feed_dict = {x: batch_x, y: batch_y})\n",
    "    print(c, end = \" , \")"
   ]
  },
  {
   "cell_type": "code",
   "execution_count": 11,
   "metadata": {},
   "outputs": [
    {
     "name": "stdout",
     "output_type": "stream",
     "text": [
      "Correctly predicted classes : 1793  among  17500\n",
      "Accuracy :  95.72571428571428\n",
      "\n",
      "\n",
      "\n",
      " Classification Report : \n",
      "\n",
      "\n",
      "               precision    recall  f1-score   support\n",
      "\n",
      "           0       0.98      0.95      0.97      1768\n",
      "           1       0.99      0.98      0.98      1897\n",
      "           2       0.94      0.97      0.96      1763\n",
      "           3       0.95      0.95      0.95      1777\n",
      "           4       0.95      0.95      0.95      1695\n",
      "           5       0.94      0.97      0.95      1545\n",
      "           6       0.97      0.96      0.97      1831\n",
      "           7       0.96      0.97      0.96      1820\n",
      "           8       0.94      0.94      0.94      1660\n",
      "           9       0.95      0.93      0.94      1744\n",
      "\n",
      "    accuracy                           0.96     17500\n",
      "   macro avg       0.96      0.96      0.96     17500\n",
      "weighted avg       0.96      0.96      0.96     17500\n",
      "\n"
     ]
    }
   ],
   "source": [
    "Predictions = tf.argmax(pred, axis = 1)\n",
    "correct_labels = tf.argmax(y, axis = 1)\n",
    "correct_predictions = tf.equal(y_pred, true_labels)\n",
    "y_pred, true_labels, correct_pred = sess.run([Predictions, correct_labels, correct_predictions], \n",
    "                                             feed_dict = {x: x_test, y: y_test})\n",
    "print(\"Correctly predicted classes :\", correct_pred.sum(), \" among \", x_test.shape[0])\n",
    "\n",
    "print(\"Accuracy : \", accuracy_score(y_pred, true_labels) * 100)\n",
    "print(\"\\n\\n\\n Classification Report : \\n\\n\\n\", classification_report(y_pred, true_labels))"
   ]
  },
  {
   "cell_type": "code",
   "execution_count": 13,
   "metadata": {},
   "outputs": [],
   "source": [
    "# Optimized Accuracy - 95.725%"
   ]
  }
 ],
 "metadata": {
  "kernelspec": {
   "display_name": "Python 3",
   "language": "python",
   "name": "python3"
  },
  "language_info": {
   "codemirror_mode": {
    "name": "ipython",
    "version": 3
   },
   "file_extension": ".py",
   "mimetype": "text/x-python",
   "name": "python",
   "nbconvert_exporter": "python",
   "pygments_lexer": "ipython3",
   "version": "3.7.6"
  }
 },
 "nbformat": 4,
 "nbformat_minor": 4
}
