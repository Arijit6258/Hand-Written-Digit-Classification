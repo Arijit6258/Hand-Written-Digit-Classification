{
 "cells": [
  {
   "cell_type": "markdown",
   "metadata": {},
   "source": [
    "# Data extraction and processing"
   ]
  },
  {
   "cell_type": "code",
   "execution_count": 1,
   "metadata": {},
   "outputs": [],
   "source": [
    "from sklearn.datasets import fetch_openml\n",
    "from sklearn.preprocessing import OneHotEncoder\n",
    "mnist = fetch_openml('mnist_784')\n",
    "required_target = mnist.target.reshape(len(mnist.target), 1)\n",
    "a = OneHotEncoder()\n",
    "a.fit(required_target)\n",
    "inputData = mnist.data \n",
    "target = a.transform(required_target).toarray()"
   ]
  },
  {
   "cell_type": "code",
   "execution_count": 2,
   "metadata": {},
   "outputs": [],
   "source": [
    "from sklearn.model_selection import train_test_split\n",
    "x_train, x_test, y_train, y_test = train_test_split(inputData, target)"
   ]
  },
  {
   "cell_type": "markdown",
   "metadata": {},
   "source": [
    "# Plotting the images"
   ]
  },
  {
   "cell_type": "code",
   "execution_count": 3,
   "metadata": {},
   "outputs": [
    {
     "data": {
      "image/png": "[encoded data removed]",
      "text/plain": [
       "<Figure size 432x288 with 1 Axes>"
      ]
     },
     "metadata": {
      "needs_background": "light"
     },
     "output_type": "display_data"
    },
    {
     "data": {
      "image/png": "[encoded data removed]",
      "text/plain": [
       "<Figure size 432x288 with 1 Axes>"
      ]
     },
     "metadata": {
      "needs_background": "light"
     },
     "output_type": "display_data"
    },
    {
     "data": {
      "image/png": "[encoded data removed]",
      "text/plain": [
       "<Figure size 432x288 with 1 Axes>"
      ]
     },
     "metadata": {
      "needs_background": "light"
     },
     "output_type": "display_data"
    }
   ],
   "source": [
    "import matplotlib.pyplot as plt\n",
    "img1 = x_train[10].reshape((28, 28))\n",
    "img2 = x_train[5].reshape((28, 28))\n",
    "img3 = x_train[489].reshape((28, 28))\n",
    "plt.imshow(img1)\n",
    "plt.show()\n",
    "plt.imshow(img2)\n",
    "plt.show()\n",
    "plt.imshow(img3)\n",
    "plt.show()"
   ]
  },
  {
   "cell_type": "code",
   "execution_count": 4,
   "metadata": {},
   "outputs": [],
   "source": [
    "input_width = 28\n",
    "input_height = 28\n",
    "input_channels = 1\n",
    "input_pixeles = 784\n",
    "\n",
    "n_conv1 = 32\n",
    "n_conv2 = 64\n",
    "stride_conv1 = 1\n",
    "stride_conv2 = 1\n",
    "conv1_k = 5\n",
    "conv2_k = 5\n",
    "pool1_k = 2\n",
    "pool2_k = 2\n",
    "\n",
    "n_hidden = 1024\n",
    "n_output = 10\n",
    "\n",
    "hidden_input_size = (input_width//(pool1_k * pool2_k)) * (input_height//(pool1_k * pool2_k)) * n_conv2"
   ]
  },
  {
   "cell_type": "code",
   "execution_count": 5,
   "metadata": {},
   "outputs": [
    {
     "name": "stdout",
     "output_type": "stream",
     "text": [
      "WARNING:tensorflow:From /Users/arijitroy/opt/anaconda3/envs/python36/lib/python3.6/site-packages/tensorflow_core/python/compat/v2_compat.py:65: disable_resource_variables (from tensorflow.python.ops.variable_scope) is deprecated and will be removed in a future version.\n",
      "Instructions for updating:\n",
      "non-resource variables are not supported in the long term\n"
     ]
    }
   ],
   "source": [
    "import tensorflow.compat.v1 as tf\n",
    "tf.disable_v2_behavior() \n",
    "\n",
    "weights = {\n",
    "    \"weightsConv1\" : tf.Variable(tf.random_normal([conv1_k, conv1_k, input_channels, n_conv1])),\n",
    "    \"weightsConv2\" : tf.Variable(tf.random_normal([conv2_k, conv2_k, n_conv1, n_conv2])),\n",
    "    \"weightsHidden\" : tf.Variable(tf.random_normal([hidden_input_size, n_hidden])),\n",
    "    \"weightsOutput\" : tf.Variable(tf.random_normal([n_hidden, n_output]))\n",
    "}\n",
    "\n",
    "biases = {\n",
    "    \"biasConv1\" : tf.Variable(tf.random_normal([n_conv1])),\n",
    "    \"biasConv2\" : tf.Variable(tf.random_normal([n_conv2])),\n",
    "    \"biasHidden\" : tf.Variable(tf.random_normal([n_hidden])),\n",
    "    \"biasOutput\" : tf.Variable(tf.random_normal([n_output]))\n",
    "}"
   ]
  },
  {
   "cell_type": "code",
   "execution_count": 6,
   "metadata": {},
   "outputs": [],
   "source": [
    "def convolution(x, weights, bias, stride = 1):\n",
    "    out = tf.nn.conv2d(x, weights, padding = \"SAME\", strides = [1, stride, stride, 1])\n",
    "    out = tf.nn.bias_add(out, bias)\n",
    "    out = tf.nn.relu(out)\n",
    "    \n",
    "    return out"
   ]
  },
  {
   "cell_type": "code",
   "execution_count": 7,
   "metadata": {},
   "outputs": [],
   "source": [
    "def maxPooling(x, k = 2):\n",
    "    return tf.nn.max_pool(x, padding = \"SAME\", ksize = [1, k, k, 1], strides = [1, k, k, 1])"
   ]
  },
  {
   "cell_type": "code",
   "execution_count": 8,
   "metadata": {},
   "outputs": [],
   "source": [
    "def cnn(x, weights, biases, keep_probability):\n",
    "    x = tf.reshape(x, shape = [-1, input_height, input_width, input_channels])\n",
    "    \n",
    "    # convolution layer 1\n",
    "    conv1Out = convolution(x, weights['weightsConv1'], biases['biasConv1'], stride_conv1)\n",
    "    conv1Pool = maxPooling(conv1Out, pool1_k)\n",
    "    \n",
    "    # convolution layer 2\n",
    "    conv2Out = convolution(conv1Pool, weights['weightsConv2'], biases['biasConv2'], stride_conv2)\n",
    "    conv2Pool = maxPooling(conv2Out, pool2_k)\n",
    "    \n",
    "    # hidden layer\n",
    "    hiddenInput = tf.reshape(conv2Pool, shape = [-1, hidden_input_size])\n",
    "    hiddenOutput_before_activation = tf.add(tf.matmul(hiddenInput, weights['weightsHidden']), biases['biasHidden'])\n",
    "    hiddenOutput_before_dropout = tf.nn.relu(hiddenOutput_before_activation)\n",
    "    \n",
    "    # applying regularization - dropout layer\n",
    "    hiddenOutput = tf.nn.dropout(hiddenOutput_before_dropout, keep_probability)\n",
    "    \n",
    "    # output layer\n",
    "    output = tf.add(tf.matmul(hiddenOutput, weights['weightsOutput']), biases['biasOutput'])\n",
    "    \n",
    "    return output"
   ]
  },
  {
   "cell_type": "code",
   "execution_count": 9,
   "metadata": {},
   "outputs": [
    {
     "name": "stdout",
     "output_type": "stream",
     "text": [
      "WARNING:tensorflow:From <ipython-input-8-711719e9fd97>:18: calling dropout (from tensorflow.python.ops.nn_ops) with keep_prob is deprecated and will be removed in a future version.\n",
      "Instructions for updating:\n",
      "Please use `rate` instead of `keep_prob`. Rate should be set to `rate = 1 - keep_prob`.\n"
     ]
    }
   ],
   "source": [
    "from sklearn.metrics import accuracy_score\n",
    "from sklearn.metrics import classification_report\n",
    "\n",
    "x = tf.placeholder(\"float\", [None, input_pixeles])\n",
    "y = tf.placeholder(tf.int32, [None, n_output])\n",
    "keep_prob = tf.placeholder(\"float\")\n",
    "pred = cnn(x, weights, biases, keep_prob)\n",
    "cost = tf.reduce_mean(tf.nn.softmax_cross_entropy_with_logits_v2(logits = pred, labels = y))"
   ]
  },
  {
   "cell_type": "markdown",
   "metadata": {},
   "source": [
    "# Optimization"
   ]
  },
  {
   "cell_type": "code",
   "execution_count": 10,
   "metadata": {},
   "outputs": [],
   "source": [
    "# optimization\n",
    "optimizer = tf.train.AdamOptimizer(learning_rate = 0.05)\n",
    "optimize = optimizer.minimize(cost)"
   ]
  },
  {
   "cell_type": "code",
   "execution_count": 11,
   "metadata": {},
   "outputs": [
    {
     "name": "stdout",
     "output_type": "stream",
     "text": [
      "1323.5402 , 145.69463 , 72.44468 , 35.315845 , 29.03098 , 15.326649 , 12.51436 , 8.205829 , 5.067937 , 7.356382 , "
     ]
    }
   ],
   "source": [
    "sess = tf.Session()\n",
    "sess.run(tf.global_variables_initializer())\n",
    "\n",
    "batch_size = 500\n",
    "c = 0\n",
    "sess.run(tf.global_variables_initializer())\n",
    "for i in range(10):\n",
    "    for s in range(0, x_train.shape[0], batch_size):\n",
    "        batch_x = x_train[s : (s + batch_size)]\n",
    "        batch_y = y_train[s : (s + batch_size)]\n",
    "        c, _ = sess.run([cost, optimize], feed_dict = {x: batch_x, y: batch_y, keep_prob: 0.8})\n",
    "    print(c, end = \" , \")"
   ]
  },
  {
   "cell_type": "code",
   "execution_count": 19,
   "metadata": {},
   "outputs": [
    {
     "name": "stdout",
     "output_type": "stream",
     "text": [
      "Correctly predicted classes : 2076  among  17500\n",
      "\n",
      "\n",
      "Accuracy :  11.862857142857143\n",
      "\n",
      "\n",
      "\n",
      " Classification Report : \n",
      "\n",
      "\n",
      "               precision    recall  f1-score   support\n",
      "\n",
      "           0       0.00      0.25      0.00         8\n",
      "           1       1.00      0.12      0.21     17382\n",
      "           2       0.00      0.36      0.01        14\n",
      "           3       0.00      0.14      0.00         7\n",
      "           4       0.00      0.40      0.00        10\n",
      "           5       0.00      0.33      0.01        15\n",
      "           6       0.00      0.11      0.00         9\n",
      "           7       0.01      0.70      0.03        37\n",
      "           8       0.00      0.20      0.00         5\n",
      "           9       0.00      0.23      0.00        13\n",
      "\n",
      "    accuracy                           0.12     17500\n",
      "   macro avg       0.10      0.28      0.03     17500\n",
      "weighted avg       0.99      0.12      0.21     17500\n",
      "\n"
     ]
    }
   ],
   "source": [
    "Predictions = tf.argmax(pred, axis = 1)\n",
    "correct_labels = tf.argmax(y, axis = 1)\n",
    "y_pred, true_labels = sess.run([Predictions, correct_labels], \n",
    "                                             feed_dict = {x: x_test, y: y_test, keep_prob : 0.8})\n",
    "\n",
    "correct_predictions = tf.equal(y_pred, true_labels)\n",
    "\n",
    "correct_pred = sess.run(correct_predictions, feed_dict = {x: x_test, y: y_test})\n",
    "\n",
    "print(\"Correctly predicted classes :\", correct_pred.sum(), \" among \", x_test.shape[0])\n",
    "print(\"\\n\\nAccuracy : \", accuracy_score(y_pred, true_labels) * 100)\n",
    "print(\"\\n\\n\\n Classification Report : \\n\\n\\n\", classification_report(y_pred, true_labels))"
   ]
  },
  {
   "cell_type": "code",
   "execution_count": null,
   "metadata": {},
   "outputs": [],
   "source": [
    "accuracy_score(predictions, correct_pred)"
   ]
  },
  {
   "cell_type": "code",
   "execution_count": null,
   "metadata": {},
   "outputs": [],
   "source": []
  }
 ],
 "metadata": {
  "kernelspec": {
   "display_name": "Python 3",
   "language": "python",
   "name": "python3"
  },
  "language_info": {
   "codemirror_mode": {
    "name": "ipython",
    "version": 3
   },
   "file_extension": ".py",
   "mimetype": "text/x-python",
   "name": "python",
   "nbconvert_exporter": "python",
   "pygments_lexer": "ipython3",
   "version": "3.6.12"
  }
 },
 "nbformat": 4,
 "nbformat_minor": 4
}
