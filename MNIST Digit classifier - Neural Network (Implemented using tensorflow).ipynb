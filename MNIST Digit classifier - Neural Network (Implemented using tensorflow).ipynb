{
 "cells": [
  {
   "cell_type": "code",
   "execution_count": 1,
   "metadata": {},
   "outputs": [
    {
     "name": "stdout",
     "output_type": "stream",
     "text": [
      "WARNING:tensorflow:From /Users/arijitroy/opt/anaconda3/envs/python36/lib/python3.6/site-packages/tensorflow_core/python/compat/v2_compat.py:65: disable_resource_variables (from tensorflow.python.ops.variable_scope) is deprecated and will be removed in a future version.\n",
      "Instructions for updating:\n",
      "non-resource variables are not supported in the long term\n"
     ]
    }
   ],
   "source": [
    "import tensorflow.compat.v1 as tf\n",
    "tf.disable_v2_behavior() \n",
    "sess = tf.Session()"
   ]
  },
  {
   "cell_type": "markdown",
   "metadata": {},
   "source": [
    "## Data Extraction and Processing"
   ]
  },
  {
   "cell_type": "code",
   "execution_count": 2,
   "metadata": {},
   "outputs": [],
   "source": [
    "from sklearn.datasets import fetch_openml\n",
    "from sklearn.preprocessing import OneHotEncoder\n",
    "mnist = fetch_openml('mnist_784')\n",
    "required_target = mnist.target.reshape(len(mnist.target), 1)\n",
    "a = OneHotEncoder()\n",
    "a.fit(required_target)\n",
    "inputData = mnist.data \n",
    "target = a.transform(required_target).toarray()"
   ]
  },
  {
   "cell_type": "code",
   "execution_count": 3,
   "metadata": {},
   "outputs": [],
   "source": [
    "from sklearn.model_selection import train_test_split\n",
    "x_train, x_test, y_train, y_test = train_test_split(inputData, target)"
   ]
  },
  {
   "cell_type": "markdown",
   "metadata": {},
   "source": [
    "## Plotting the images "
   ]
  },
  {
   "cell_type": "code",
   "execution_count": 4,
   "metadata": {},
   "outputs": [
    {
     "data": {
      "image/png": "[encoded data removed]",
      "text/plain": [
       "<Figure size 432x288 with 1 Axes>"
      ]
     },
     "metadata": {
      "needs_background": "light"
     },
     "output_type": "display_data"
    },
    {
     "data": {
      "image/png": "[encoded data removed]",
      "text/plain": [
       "<Figure size 432x288 with 1 Axes>"
      ]
     },
     "metadata": {
      "needs_background": "light"
     },
     "output_type": "display_data"
    },
    {
     "data": {
      "image/png": "[encoded data removed]",
      "text/plain": [
       "<Figure size 432x288 with 1 Axes>"
      ]
     },
     "metadata": {
      "needs_background": "light"
     },
     "output_type": "display_data"
    }
   ],
   "source": [
    "import matplotlib.pyplot as plt\n",
    "img1 = x_train[10].reshape((28, 28))\n",
    "img2 = x_train[5].reshape((28, 28))\n",
    "img3 = x_train[489].reshape((28, 28))\n",
    "plt.imshow(img1)\n",
    "plt.show()\n",
    "plt.imshow(img2)\n",
    "plt.show()\n",
    "plt.imshow(img3)\n",
    "plt.show()"
   ]
  },
  {
   "cell_type": "markdown",
   "metadata": {},
   "source": [
    "# Applying neural network"
   ]
  },
  {
   "cell_type": "code",
   "execution_count": 5,
   "metadata": {},
   "outputs": [],
   "source": [
    "# Weights and biases\n",
    "n_input = 784\n",
    "n_hidden1 = 256\n",
    "n_hidden2 = 256\n",
    "n_classes = 10\n",
    "\n",
    "Weights = {\n",
    "    'h1': tf.Variable(tf.random_normal([n_input, n_hidden1])),\n",
    "    'h2': tf.Variable(tf.random_normal([n_hidden1, n_hidden2])),\n",
    "    'output': tf.Variable(tf.random_normal([n_hidden2, n_classes]))\n",
    "}\n",
    "\n",
    "Biases = {\n",
    "    'h1': tf.Variable(tf.random_normal([n_hidden1])),\n",
    "    'h2': tf.Variable(tf.random_normal([n_hidden2])),\n",
    "    'output': tf.Variable(tf.random_normal([n_classes]))\n",
    "}"
   ]
  },
  {
   "cell_type": "markdown",
   "metadata": {},
   "source": [
    "## Forward Propagation"
   ]
  },
  {
   "cell_type": "code",
   "execution_count": 6,
   "metadata": {},
   "outputs": [],
   "source": [
    "def forward_propagation(Weights, Biases, x):\n",
    "    layer1_input = tf.add(Biases['h1'], tf.matmul(x, Weights['h1']))\n",
    "    layer1_output = tf.nn.relu(layer1_input)\n",
    "    \n",
    "    layer2_input = tf.add(Biases['h2'], tf.matmul(layer1_output, Weights['h2']))\n",
    "    layer2_output = tf.nn.relu(layer2_input)\n",
    "    \n",
    "    output = tf.add(Biases['output'], tf.matmul(layer2_output, Weights['output']))\n",
    "    \n",
    "    return output"
   ]
  },
  {
   "cell_type": "markdown",
   "metadata": {},
   "source": [
    "## Prediction and Accuracy"
   ]
  },
  {
   "cell_type": "code",
   "execution_count": 7,
   "metadata": {},
   "outputs": [],
   "source": [
    "from sklearn.metrics import accuracy_score\n",
    "from sklearn.metrics import classification_report\n",
    "sess = tf.Session()\n",
    "sess.run(tf.global_variables_initializer())\n",
    "\n",
    "x = tf.placeholder(\"float\", [None, n_input])\n",
    "y = tf.placeholder(tf.int32, [None, n_classes])"
   ]
  },
  {
   "cell_type": "markdown",
   "metadata": {},
   "source": [
    "### Without Optimization"
   ]
  },
  {
   "cell_type": "code",
   "execution_count": 8,
   "metadata": {},
   "outputs": [
    {
     "name": "stdout",
     "output_type": "stream",
     "text": [
      "Correctly predicted classes : 2381  among  17500\n",
      "Accuracy :  13.605714285714285\n",
      "\n",
      "\n",
      "\n",
      " Classification Report : \n",
      "\n",
      "\n",
      "               precision    recall  f1-score   support\n",
      "\n",
      "           0       0.14      0.36      0.20       647\n",
      "           1       0.18      0.57      0.27       631\n",
      "           2       0.00      0.13      0.01        47\n",
      "           3       0.02      0.03      0.03      1621\n",
      "           4       0.02      0.13      0.03       199\n",
      "           5       0.06      0.16      0.09       644\n",
      "           6       0.10      0.24      0.14       699\n",
      "           7       0.82      0.11      0.20     12757\n",
      "           8       0.00      0.00      0.00        17\n",
      "           9       0.00      0.01      0.00       238\n",
      "\n",
      "    accuracy                           0.14     17500\n",
      "   macro avg       0.13      0.17      0.10     17500\n",
      "weighted avg       0.62      0.14      0.17     17500\n",
      "\n"
     ]
    }
   ],
   "source": [
    "pred = forward_propagation(Weights, Biases, x)\n",
    "Predictions = tf.argmax(pred, axis = 1)\n",
    "correct_labels = tf.argmax(y, axis = 1)\n",
    "y_pred, true_labels = sess.run([Predictions, correct_labels], \n",
    "                                             feed_dict = {x: x_test, y: y_test})\n",
    "\n",
    "correct_predictions = tf.equal(y_pred, true_labels)\n",
    "correct_pred = sess.run(correct_predictions, feed_dict = {x: x_test, y: y_test})\n",
    "print(\"Correctly predicted classes :\", correct_pred.sum(), \" among \", x_test.shape[0])\n",
    "\n",
    "print(\"Accuracy : \", accuracy_score(y_pred, true_labels) * 100)\n",
    "print(\"\\n\\n\\n Classification Report : \\n\\n\\n\", classification_report(y_pred, true_labels))"
   ]
  },
  {
   "cell_type": "markdown",
   "metadata": {},
   "source": [
    "### With Optimization"
   ]
  },
  {
   "cell_type": "code",
   "execution_count": 9,
   "metadata": {},
   "outputs": [
    {
     "name": "stdout",
     "output_type": "stream",
     "text": [
      "WARNING:tensorflow:From <ipython-input-9-9e07479ed68c>:2: softmax_cross_entropy_with_logits (from tensorflow.python.ops.nn_ops) is deprecated and will be removed in a future version.\n",
      "Instructions for updating:\n",
      "\n",
      "Future major versions of TensorFlow will allow gradients to flow\n",
      "into the labels input on backprop by default.\n",
      "\n",
      "See `tf.nn.softmax_cross_entropy_with_logits_v2`.\n",
      "\n"
     ]
    }
   ],
   "source": [
    "# cost function used here is cross entropy cost\n",
    "cost = tf.reduce_mean(tf.nn.softmax_cross_entropy_with_logits(logits = pred, labels = y))\n",
    "\n",
    "# optimization\n",
    "optimizer = tf.train.AdamOptimizer(learning_rate = 0.05)\n",
    "optimize = optimizer.minimize(cost)"
   ]
  },
  {
   "cell_type": "code",
   "execution_count": 10,
   "metadata": {},
   "outputs": [
    {
     "name": "stdout",
     "output_type": "stream",
     "text": [
      "2298.034 , 1401.8799 , 952.8378 , 540.4259 , 268.97455 , 211.00702 , 401.33383 , 313.45953 , 152.88269 , 264.50095 , 219.3675 , 267.88156 , 204.60303 , 159.1103 , 73.65574 , 357.00797 , 278.09332 , 83.74545 , 315.67084 , 195.39828 , 92.959465 , 105.75725 , 206.5476 , 138.77986 , 128.25371 , 119.925575 , 115.235565 , 257.44965 , 104.04277 , 99.29592 , 50.175175 , 83.618126 , 141.22063 , 72.9351 , 65.27213 , "
     ]
    }
   ],
   "source": [
    "batch_size = 500\n",
    "c = 0\n",
    "sess.run(tf.global_variables_initializer())\n",
    "for i in range(35):\n",
    "    for s in range(0, x_train.shape[0], batch_size):\n",
    "        batch_x = x_train[s : (s + batch_size)]\n",
    "        batch_y = y_train[s : (s + batch_size)]\n",
    "        c, _ = sess.run([cost, optimize], feed_dict = {x: batch_x, y: batch_y})\n",
    "    print(c, end = \" , \")"
   ]
  },
  {
   "cell_type": "code",
   "execution_count": 13,
   "metadata": {},
   "outputs": [
    {
     "name": "stdout",
     "output_type": "stream",
     "text": [
      "Correctly predicted classes : 16812  among  17500\n",
      "\n",
      "\n",
      "Accuracy :  96.06857142857143\n",
      "\n",
      "\n",
      "\n",
      " Classification Report : \n",
      "\n",
      "\n",
      "               precision    recall  f1-score   support\n",
      "\n",
      "           0       0.97      0.98      0.98      1707\n",
      "           1       0.98      0.99      0.98      2000\n",
      "           2       0.96      0.95      0.96      1791\n",
      "           3       0.93      0.97      0.95      1689\n",
      "           4       0.97      0.94      0.95      1699\n",
      "           5       0.96      0.96      0.96      1600\n",
      "           6       0.96      0.98      0.97      1680\n",
      "           7       0.96      0.96      0.96      1768\n",
      "           8       0.95      0.93      0.94      1778\n",
      "           9       0.95      0.95      0.95      1788\n",
      "\n",
      "    accuracy                           0.96     17500\n",
      "   macro avg       0.96      0.96      0.96     17500\n",
      "weighted avg       0.96      0.96      0.96     17500\n",
      "\n"
     ]
    }
   ],
   "source": [
    "Predictions = tf.argmax(pred, axis = 1)\n",
    "correct_labels = tf.argmax(y, axis = 1)\n",
    "correct_predictions = tf.equal(y_pred, true_labels)\n",
    "y_pred, true_labels = sess.run([Predictions, correct_labels], \n",
    "                                             feed_dict = {x: x_test, y: y_test})\n",
    "\n",
    "correct_pred = sess.run(correct_predictions, feed_dict = {x: x_test, y: y_test})\n",
    "\n",
    "print(\"Correctly predicted classes :\", correct_pred.sum(), \" among \", x_test.shape[0])\n",
    "print(\"\\n\\nAccuracy : \", accuracy_score(y_pred, true_labels) * 100)\n",
    "print(\"\\n\\n\\n Classification Report : \\n\\n\\n\", classification_report(y_pred, true_labels))"
   ]
  },
  {
   "cell_type": "code",
   "execution_count": 12,
   "metadata": {},
   "outputs": [],
   "source": [
    "# Optimized Accuracy - 96.06%"
   ]
  }
 ],
 "metadata": {
  "kernelspec": {
   "display_name": "Python 3",
   "language": "python",
   "name": "python3"
  },
  "language_info": {
   "codemirror_mode": {
    "name": "ipython",
    "version": 3
   },
   "file_extension": ".py",
   "mimetype": "text/x-python",
   "name": "python",
   "nbconvert_exporter": "python",
   "pygments_lexer": "ipython3",
   "version": "3.6.12"
  }
 },
 "nbformat": 4,
 "nbformat_minor": 4
}
